{
  "nbformat": 4,
  "nbformat_minor": 0,
  "metadata": {
    "colab": {
      "provenance": [],
      "authorship_tag": "ABX9TyPHrHI1C2DHudwuUIlCnGob",
      "include_colab_link": true
    },
    "kernelspec": {
      "name": "python3",
      "display_name": "Python 3"
    },
    "language_info": {
      "name": "python"
    }
  },
  "cells": [
    {
      "cell_type": "markdown",
      "metadata": {
        "id": "view-in-github",
        "colab_type": "text"
      },
      "source": [
        "<a href=\"https://colab.research.google.com/github/ahcamachod/2012-python-avanzando-en-el-lenguaje/blob/main/El_Ahorcado.ipynb\" target=\"_parent\"><img src=\"https://colab.research.google.com/assets/colab-badge.svg\" alt=\"Open In Colab\"/></a>"
      ]
    },
    {
      "cell_type": "markdown",
      "source": [
        "# Python: Avanzando en el lenguaje\n"
      ],
      "metadata": {
        "id": "1QxS1znvpiJy"
      }
    },
    {
      "cell_type": "code",
      "execution_count": null,
      "metadata": {
        "id": "EHWUsY7zphq9"
      },
      "outputs": [],
      "source": [
        "from google.colab import drive\n",
        "\n",
        "drive.mount(\"/content/drive\")"
      ]
    },
    {
      "cell_type": "code",
      "source": [
        "print(\"****************************************\")\n",
        "print(\"**************El Ahorcado***************\")\n",
        "print(\"****************************************\")\n",
        "print(\"Bienvenido al juego del ahorcado\\n\")\n",
        "\n",
        "print(\"\\nFin del juego!\")"
      ],
      "metadata": {
        "id": "cpepz2kfqgZn"
      },
      "execution_count": null,
      "outputs": []
    }
  ]
}
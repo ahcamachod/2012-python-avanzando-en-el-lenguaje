{
  "nbformat": 4,
  "nbformat_minor": 0,
  "metadata": {
    "colab": {
      "provenance": [],
      "authorship_tag": "ABX9TyOhGyikzE5uzXKboV7tP5pf",
      "include_colab_link": true
    },
    "kernelspec": {
      "name": "python3",
      "display_name": "Python 3"
    },
    "language_info": {
      "name": "python"
    }
  },
  "cells": [
    {
      "cell_type": "markdown",
      "metadata": {
        "id": "view-in-github",
        "colab_type": "text"
      },
      "source": [
        "<a href=\"https://colab.research.google.com/github/ahcamachod/2012-python-avanzando-en-el-lenguaje/blob/aula-4/El_Ahorcado.ipynb\" target=\"_parent\"><img src=\"https://colab.research.google.com/assets/colab-badge.svg\" alt=\"Open In Colab\"/></a>"
      ]
    },
    {
      "cell_type": "markdown",
      "source": [
        "# Python: Avanzando en el lenguaje\n"
      ],
      "metadata": {
        "id": "1QxS1znvpiJy"
      }
    },
    {
      "cell_type": "code",
      "execution_count": null,
      "metadata": {
        "id": "EHWUsY7zphq9"
      },
      "outputs": [],
      "source": [
        "from google.colab import drive\n",
        "\n",
        "drive.mount(\"/content/drive\")"
      ]
    },
    {
      "cell_type": "code",
      "source": [
        "print(\"****************************************\")\n",
        "print(\"**************El Ahorcado***************\")\n",
        "print(\"****************************************\")\n",
        "print(\"Bienvenido al juego del ahorcado\\n\")\n",
        "\n",
        "palabra_secreta = \"banana\".upper() \n",
        "letras_acertadas = [\"_\" for letra in palabra_secreta]\n",
        "print(letras_acertadas) \n",
        "ahorco = False\n",
        "acerto = False\n",
        "errores = 0\n",
        "\n",
        "while (not ahorco and not acerto):\n",
        "  intento = input(\"\\nDigita una letra: \")\n",
        "  intento = intento.strip().upper()\n",
        "  if intento in palabra_secreta:\n",
        "    indice = 0\n",
        "    for letra in palabra_secreta:\n",
        "      if (intento == letra):\n",
        "        letras_acertadas[indice] = letra\n",
        "        # print(\"Encontré la letra '{}' en la posición {}\".format(letra, indice))      \n",
        "      indice += 1\n",
        "  else:\n",
        "    errores += 1\n",
        "  ahorco = errores == 6\n",
        "  acerto = \"_\" not in letras_acertadas\n",
        "  print(letras_acertadas)\n",
        "  if (acerto):\n",
        "    print(\"\\n¡Has ganado!\")\n",
        "  elif(ahorco):\n",
        "    print(\"\\n¡Has perdido!\")\n",
        "\n",
        "print(\"\\nFin del juego!\")"
      ],
      "metadata": {
        "id": "cpepz2kfqgZn"
      },
      "execution_count": null,
      "outputs": []
    }
  ]
}